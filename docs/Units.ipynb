{
 "cells": [
  {
   "cell_type": "markdown",
   "metadata": {},
   "source": [
    "## About units.\n",
    "\n",
    "The dimensions of the package are managed by using the package `pint`. This pacakge defines a registry that contains many common units. These units can be assigned to a quantity by multiplication. For example, suppose we want to calculate the magnetic dipole moment of a particle. We have the expression:\n",
    "\n",
    "$$ {\\bf m} = \\frac{V\\chi{\\bf B}}{\\mu_0}$$\n",
    "\n",
    "and the parameters are, \n",
    "* ${\\bf B} = 30 \\mathrm{mT}\\ \\hat{z}$\n",
    "* $r = 5\\mu{m}$\n",
    "* $\\chi = 0.5$\n",
    "\n",
    "and $\\mu_0 = 4\\pi\\times10^{-7} \\mathrm{H}m^{-1}$\n",
    "\n",
    "Then we can write:"
   ]
  },
  {
   "cell_type": "code",
   "execution_count": 1,
   "metadata": {},
   "outputs": [
    {
     "data": {
      "text/html": [
       "6.2499999999999994×10<sup>-12</sup> ampere meter<sup>2</sup>"
      ],
      "text/latex": [
       "$6.2499999999999994\\times 10^{-12}\\ \\mathrm{ampere} \\cdot \\mathrm{meter}^{2}$"
      ],
      "text/plain": [
       "6.2499999999999994e-12 <Unit('ampere * meter ** 2')>"
      ]
     },
     "execution_count": 1,
     "metadata": {},
     "output_type": "execute_result"
    }
   ],
   "source": [
    "import pint\n",
    "import numpy as np\n",
    "\n",
    "ureg = pint.UnitRegistry()\n",
    "\n",
    "B = 30*ureg.mT\n",
    "r = 5*ureg.um\n",
    "chi = 0.5\n",
    "mu0 = 4e-7*np.pi*ureg.H/ureg.m\n",
    "\n",
    "V = 4/3*np.pi*r**3\n",
    "\n",
    "m = V*B*chi/mu0\n",
    "m.to_base_units()"
   ]
  },
  {
   "cell_type": "markdown",
   "metadata": {},
   "source": [
    "Which, as we can see, handles well the units for us. "
   ]
  },
  {
   "cell_type": "markdown",
   "metadata": {},
   "source": [
    "### Importing the unit registry\n",
    "One caveat of using `pint` for unit management is that units from one registry can't operate with the units from another one. Therefore, the quantities defined in this script can only operate with quantities defined inside the `icenumerics` module, if we use the unit registry of the module. We can import it by writing:"
   ]
  },
  {
   "cell_type": "code",
   "execution_count": 2,
   "metadata": {},
   "outputs": [
    {
     "ename": "NameError",
     "evalue": "name 'ice' is not defined",
     "output_type": "error",
     "traceback": [
      "\u001b[0;31m---------------------------------------------------------------------------\u001b[0m",
      "\u001b[0;31mNameError\u001b[0m                                 Traceback (most recent call last)",
      "Cell \u001b[0;32mIn[2], line 1\u001b[0m\n\u001b[0;32m----> 1\u001b[0m ureg \u001b[38;5;241m=\u001b[39m \u001b[43mice\u001b[49m\u001b[38;5;241m.\u001b[39mureg\n",
      "\u001b[0;31mNameError\u001b[0m: name 'ice' is not defined"
     ]
    }
   ],
   "source": [
    "ureg = ice.ureg"
   ]
  }
 ],
 "metadata": {
  "anaconda-cloud": {},
  "kernelspec": {
   "display_name": "Python 3 (ipykernel)",
   "language": "python",
   "name": "python3"
  },
  "language_info": {
   "codemirror_mode": {
    "name": "ipython",
    "version": 3
   },
   "file_extension": ".py",
   "mimetype": "text/x-python",
   "name": "python",
   "nbconvert_exporter": "python",
   "pygments_lexer": "ipython3",
   "version": "3.9.16"
  }
 },
 "nbformat": 4,
 "nbformat_minor": 2
}
